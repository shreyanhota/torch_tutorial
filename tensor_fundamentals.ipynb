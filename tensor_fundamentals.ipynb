{
 "cells": [
  {
   "cell_type": "code",
   "execution_count": 1,
   "id": "2211cd68-7b16-4e03-9a32-7c689392e574",
   "metadata": {},
   "outputs": [
    {
     "name": "stderr",
     "output_type": "stream",
     "text": [
      "c:\\githubrepos\\torch\\torch\\lib\\site-packages\\torch\\_subclasses\\functional_tensor.py:258: UserWarning: Failed to initialize NumPy: numpy.core.multiarray failed to import (Triggered internally at C:\\actions-runner\\_work\\pytorch\\pytorch\\builder\\windows\\pytorch\\torch\\csrc\\utils\\tensor_numpy.cpp:84.)\n",
      "  cpu = _conversion_method_template(device=torch.device(\"cpu\"))\n"
     ]
    },
    {
     "data": {
      "text/plain": [
       "torch.Size([1, 8])"
      ]
     },
     "execution_count": 1,
     "metadata": {},
     "output_type": "execute_result"
    }
   ],
   "source": [
    "import torch\n",
    "\n",
    "torch.Tensor([[2, 3, 6, 7, 9, 3, 2, 1]]).shape"
   ]
  },
  {
   "cell_type": "code",
   "execution_count": 11,
   "id": "4fe2114e-866d-4ca7-8997-1227985085d0",
   "metadata": {},
   "outputs": [
    {
     "data": {
      "text/plain": [
       "tensor([[0.8808, 0.9526, 0.9975, 0.9991, 0.9999, 0.9526, 0.8808, 0.7311]])"
      ]
     },
     "execution_count": 11,
     "metadata": {},
     "output_type": "execute_result"
    }
   ],
   "source": [
    "sigmoid=torch.nn.Sigmoid()\n",
    "sigmoid(torch.tensor([[2, 3, 6, 7, 9, 3, 2, 1]]))"
   ]
  },
  {
   "cell_type": "code",
   "execution_count": 12,
   "id": "5ae5c991-daad-4360-9e31-52b9c206c946",
   "metadata": {},
   "outputs": [
    {
     "data": {
      "text/plain": [
       "tensor([[0.8808]])"
      ]
     },
     "execution_count": 12,
     "metadata": {},
     "output_type": "execute_result"
    }
   ],
   "source": [
    "sigmoid=torch.nn.Sigmoid()\n",
    "sigmoid(torch.tensor([[2]]))"
   ]
  },
  {
   "cell_type": "code",
   "execution_count": 15,
   "id": "a92ef829-69b6-4137-afe3-00e2d5e8ff4b",
   "metadata": {},
   "outputs": [
    {
     "data": {
      "text/plain": [
       "tensor([[0.0048, 0.0131, 0.2641, 0.7179]])"
      ]
     },
     "execution_count": 15,
     "metadata": {},
     "output_type": "execute_result"
    }
   ],
   "source": [
    "probabilities=torch.nn.Softmax(dim=-1)\n",
    "probabilities(torch.tensor([[2.0,3.0,6.0,7.0]]))"
   ]
  },
  {
   "cell_type": "code",
   "execution_count": 17,
   "id": "3650c9d8-4628-441d-8d5b-f7daa5897e6e",
   "metadata": {},
   "outputs": [
    {
     "data": {
      "text/plain": [
       "torch.Size([1, 1])"
      ]
     },
     "execution_count": 17,
     "metadata": {},
     "output_type": "execute_result"
    }
   ],
   "source": [
    "tensor1=torch.tensor([[0.2]])\n",
    "tensor1.shape"
   ]
  },
  {
   "cell_type": "code",
   "execution_count": 18,
   "id": "746d27c6-610b-41d9-88b0-eb4128379354",
   "metadata": {},
   "outputs": [
    {
     "data": {
      "text/plain": [
       "tensor([[0.5498]])"
      ]
     },
     "execution_count": 18,
     "metadata": {},
     "output_type": "execute_result"
    }
   ],
   "source": [
    "sigmoid=torch.nn.Sigmoid()\n",
    "sigmoid(tensor1)"
   ]
  },
  {
   "cell_type": "code",
   "execution_count": 21,
   "id": "6a61221d-7c24-4cb5-8f0e-8a72742f5b14",
   "metadata": {},
   "outputs": [
    {
     "data": {
      "text/plain": [
       "tensor([0.0008, 0.0010, 0.2685, 0.7297])"
      ]
     },
     "execution_count": 21,
     "metadata": {},
     "output_type": "execute_result"
    }
   ],
   "source": [
    "tensor2=torch.tensor([0.2,0.4,6,7])\n",
    "softmax=torch.nn.Softmax(dim=-1)\n",
    "softmax(tensor2)"
   ]
  },
  {
   "cell_type": "code",
   "execution_count": 26,
   "id": "f9ba165e-7b1f-4157-9896-b51e9d5342cd",
   "metadata": {},
   "outputs": [
    {
     "data": {
      "text/plain": [
       "tensor([ 2.2995, -2.3785], grad_fn=<ViewBackward0>)"
      ]
     },
     "execution_count": 26,
     "metadata": {},
     "output_type": "execute_result"
    }
   ],
   "source": [
    "class LinearModel(torch.nn.Module):\n",
    "    def __init__(self):\n",
    "        super().__init__()\n",
    "        self.linear=torch.nn.Linear(in_features=4,out_features=2)\n",
    "\n",
    "    def forward(self,x):\n",
    "        return self.linear(x)\n",
    "\n",
    "model=LinearModel()\n",
    "model(tensor2)\n",
    "            "
   ]
  },
  {
   "cell_type": "code",
   "execution_count": 65,
   "id": "709b9f80-d0e0-450d-afd3-8a55967693b0",
   "metadata": {},
   "outputs": [
    {
     "name": "stdout",
     "output_type": "stream",
     "text": [
      "tensor([[ 0.3937,  1.0823,  0.0938,  0.0305],\n",
      "        [ 1.0205,  2.7530,  1.1021,  0.1152],\n",
      "        [ 1.1011,  0.3278,  0.4385, -1.5895],\n",
      "        [-1.2230,  1.3043, -0.3584,  1.1146],\n",
      "        [ 0.3167,  0.1213,  1.3730, -0.6333]])\n",
      "tensor([[0.6604],\n",
      "        [0.8262],\n",
      "        [0.6935],\n",
      "        [0.5513],\n",
      "        [0.6470]], grad_fn=<SigmoidBackward0>)\n",
      "tensor(1.0077, grad_fn=<BinaryCrossEntropyBackward0>)\n"
     ]
    }
   ],
   "source": [
    "class BinaryModel(torch.nn.Module):\n",
    "    def __init__(self, input_size):\n",
    "        super().__init__()\n",
    "        self.linear=torch.nn.Linear(in_features=input_size, out_features=1)\n",
    "        self.sigmoid=torch.nn.Sigmoid()\n",
    "\n",
    "    def forward(self,x):\n",
    "        return self.sigmoid(self.linear(x))\n",
    "\n",
    "model=BinaryModel(input_size=4)\n",
    "tensor4=torch.randn(5,4)\n",
    "\n",
    "print(tensor4)\n",
    "print(model(tensor4))\n",
    "\n",
    "tensor_target=torch.tensor([[0.0],[0.0],[1.0],[0.0],[0.0]])\n",
    "loss_fn=torch.nn.BCELoss()\n",
    "print(loss_fn(model(tensor4),tensor_target))"
   ]
  },
  {
   "cell_type": "code",
   "execution_count": 50,
   "id": "b0248fac-8925-4032-af6b-cb1d7a0600e3",
   "metadata": {},
   "outputs": [
    {
     "data": {
      "text/plain": [
       "tensor([[0.2000, 0.4000, 6.0000, 7.0000]])"
      ]
     },
     "execution_count": 50,
     "metadata": {},
     "output_type": "execute_result"
    }
   ],
   "source": [
    "tensor3=tensor2.unsqueeze(0)\n",
    "tensor3"
   ]
  },
  {
   "cell_type": "code",
   "execution_count": null,
   "id": "6a4c881b-6f95-4f44-8c6e-403d63efd71d",
   "metadata": {},
   "outputs": [],
   "source": [
    "tensor1=torch.randint(0,10,(5,4))\n",
    "print(tensor1)"
   ]
  },
  {
   "cell_type": "code",
   "execution_count": 73,
   "id": "76f85734-d55a-4de3-9974-4eaefbb3d690",
   "metadata": {},
   "outputs": [
    {
     "name": "stdout",
     "output_type": "stream",
     "text": [
      "tensor([[ 1.2467, -0.8164,  0.3122,  1.1547],\n",
      "        [ 0.9113,  0.5861, -0.5674,  1.3743],\n",
      "        [-0.4980,  1.1065, -0.8463, -0.7794],\n",
      "        [ 2.1532,  1.0708,  0.6620,  0.8597],\n",
      "        [ 0.0769, -0.1425,  0.5847,  0.5027]])\n",
      "tensor([[-0.8257, -0.4527,  0.4132],\n",
      "        [-0.6668,  0.5185,  0.3132],\n",
      "        [-0.4158,  1.0394,  0.4436],\n",
      "        [-0.7047, -0.0204,  0.6933],\n",
      "        [-0.0963,  0.2544, -0.0530]], grad_fn=<AddmmBackward0>)\n",
      "tensor([[0.1694, 0.2460, 0.5847],\n",
      "        [0.1442, 0.4717, 0.3841],\n",
      "        [0.1308, 0.5604, 0.3088],\n",
      "        [0.1423, 0.2820, 0.5757],\n",
      "        [0.2887, 0.4099, 0.3014]], grad_fn=<SoftmaxBackward0>)\n",
      "tensor([[0.1694, 0.2460, 0.5847],\n",
      "        [0.1442, 0.4717, 0.3841],\n",
      "        [0.1308, 0.5604, 0.3088],\n",
      "        [0.1423, 0.2820, 0.5757],\n",
      "        [0.2887, 0.4099, 0.3014]], grad_fn=<SoftmaxBackward0>)\n",
      "1.3717321157455444\n"
     ]
    }
   ],
   "source": [
    "tensor1=torch.randn(5,4)\n",
    "print(tensor1)\n",
    "class MultiClassClassifier(torch.nn.Module):\n",
    "    def __init__(self,input_size,num_classes):\n",
    "        super().__init__()\n",
    "        self.linear=torch.nn.Linear(input_size,num_classes)\n",
    "    def forward(self,x):\n",
    "        return self.linear(x)\n",
    "model=MultiClassClassifier(4,3)\n",
    "logits=model(tensor1)\n",
    "print(logits)\n",
    "softmax1=torch.nn.functional.softmax(logits,dim=1)\n",
    "softmax2=torch.nn.functional.softmax(logits,dim=-1)\n",
    "print(softmax1)\n",
    "print(softmax2)\n",
    "tensor_target1=torch.tensor([1,2,0,1,2])\n",
    "loss_fn=torch.nn.CrossEntropyLoss()\n",
    "print(loss_fn(logits,tensor_target1).item())"
   ]
  },
  {
   "cell_type": "code",
   "execution_count": 96,
   "id": "42be6915-b7ea-4c66-bd2a-eade4f581dcb",
   "metadata": {},
   "outputs": [
    {
     "name": "stdout",
     "output_type": "stream",
     "text": [
      "torch.Size([2, 5])\n",
      "tensor([[-1.5166, -0.0420, -0.0929,  0.0530,  0.7173],\n",
      "        [ 0.6436,  1.3117,  0.6031, -0.9562, -2.7012],\n",
      "        [ 1.4205, -0.7826,  0.3722,  0.4588, -0.4575]])\n",
      "tensor([[5.0000, 1.0000],\n",
      "        [2.9000, 1.2000],\n",
      "        [1.2000, 3.4000],\n",
      "        [2.4000, 5.6000],\n",
      "        [2.9000, 1.9000]])\n",
      "tensor([[-5.3090, -0.4234],\n",
      "        [-2.0828, -6.4188],\n",
      "        [ 5.3538,  3.2468]])\n"
     ]
    }
   ],
   "source": [
    "inputs=torch.randn(3,5)\n",
    "weights=torch.tensor([[5.0,2.9,1.2,2.4,2.9],[1.0,1.2,3.4,5.6,1.9]])\n",
    "print(weights.shape)\n",
    "print(inputs)\n",
    "print(weights.T)\n",
    "bias=torch.tensor([0.3,-0.2])\n",
    "\n",
    "targets=torch.matmul(inputs,weights.T)+bias\n",
    "print(targets)"
   ]
  },
  {
   "cell_type": "code",
   "execution_count": 97,
   "id": "bee50b25-088e-4a9e-9b81-d9035f45c9ee",
   "metadata": {},
   "outputs": [
    {
     "name": "stdout",
     "output_type": "stream",
     "text": [
      "tensor([[ 0.6152, -0.6589],\n",
      "        [-1.3938,  0.0135],\n",
      "        [-0.8328,  0.1145]], grad_fn=<AddmmBackward0>)\n",
      "20.847421646118164\n",
      "Gradients for model parameters:\n",
      "weight tensor([[-5.7763,  1.8321, -0.8125, -1.0612,  1.7396],\n",
      "        [ 0.0158,  3.6328,  0.9117, -2.5333, -5.3703]])\n",
      "bias tensor([0.1422, 1.0215])\n",
      "Model parameters:\n",
      "weight: Parameter containing:\n",
      "tensor([[-0.3484,  0.2764,  0.2126,  0.3883,  0.4056],\n",
      "        [ 0.2183,  0.0349, -0.1913,  0.1975, -0.1422]], requires_grad=True)\n",
      "bias: Parameter containing:\n",
      "tensor([-0.1933, -0.2527], requires_grad=True)\n"
     ]
    }
   ],
   "source": [
    "model=torch.nn.Linear(5,2)\n",
    "outputs=model(inputs)\n",
    "print(outputs)\n",
    "loss_fn=torch.nn.MSELoss()\n",
    "loss=loss_fn(outputs,targets)\n",
    "print(loss.item())\n",
    "loss.backward()\n",
    "# Print gradient for the weights of the linear layer\n",
    "print(\"Gradients for model parameters:\")\n",
    "for name, param in model.named_parameters():\n",
    "    print(name, param.grad)\n",
    "\n",
    "print(\"Model parameters:\")\n",
    "for name, param in model.named_parameters():\n",
    "    print(f\"{name}: {param}\")"
   ]
  },
  {
   "cell_type": "code",
   "execution_count": 95,
   "id": "2b3aed28-8d24-4777-9477-0cb7d4d18106",
   "metadata": {},
   "outputs": [
    {
     "name": "stdout",
     "output_type": "stream",
     "text": [
      "Epoch 0, Loss: 3.384078295365356e-10\n",
      "Epoch 100, Loss: 2.5409008230781183e-10\n",
      "Epoch 200, Loss: 2.5409008230781183e-10\n",
      "Epoch 300, Loss: 2.5409008230781183e-10\n",
      "Epoch 400, Loss: 2.5409008230781183e-10\n",
      "Epoch 500, Loss: 2.5409008230781183e-10\n",
      "Epoch 600, Loss: 2.5409008230781183e-10\n",
      "Epoch 700, Loss: 2.5409008230781183e-10\n",
      "Epoch 800, Loss: 2.5409008230781183e-10\n",
      "Epoch 900, Loss: 2.5409008230781183e-10\n",
      "\n",
      "Trained Weights: tensor([[ 1.8065,  4.3651,  0.7651,  2.5864,  1.4726],\n",
      "        [-0.8249,  2.1054,  1.9275,  4.9510,  3.2283]])\n",
      "\n",
      "Trained Bias: tensor([-1.0421,  0.2041])\n"
     ]
    }
   ],
   "source": [
    "learning_rate = 0.01\n",
    "num_epochs = 1000\n",
    "model=torch.nn.Linear(5,2)\n",
    "outputs=model(inputs)\n",
    "print(outputs)\n",
    "loss_fn=torch.nn.MSELoss()\n",
    "loss=loss_fn(outputs,targets)\n",
    "print(loss.item())\n",
    "\n",
    "\n",
    "for epoch in range(num_epochs):\n",
    "    outputs=model(inputs)\n",
    "    loss_fn=torch.nn.MSELoss()\n",
    "    loss=loss_fn(outputs,targets)\n",
    "    loss.backward()\n",
    "    with torch.no_grad():\n",
    "        for param in model.parameters():\n",
    "            param-=learning_rate*param.grad\n",
    "    model.zero_grad()\n",
    "    if epoch % 100 == 0:\n",
    "        print(f\"Epoch {epoch}, Loss: {loss.item()}\")\n",
    "\n",
    "print(\"\\nTrained Weights:\", model.weight.data)\n",
    "print(\"\\nTrained Bias:\", model.bias.data)"
   ]
  },
  {
   "cell_type": "code",
   "execution_count": 93,
   "id": "9afbe23e-9803-4750-8363-613305bd01f9",
   "metadata": {},
   "outputs": [
    {
     "name": "stdout",
     "output_type": "stream",
     "text": [
      "tensor([[ 8.2171, 14.4671],\n",
      "        [-7.1001, -8.8904],\n",
      "        [ 5.8419, -5.4371]])\n",
      "tensor([[ 8.2194, 14.4678],\n",
      "        [-7.0942, -8.8886],\n",
      "        [ 5.8402, -5.4376]], grad_fn=<AddmmBackward0>)\n"
     ]
    }
   ],
   "source": [
    "print(targets)\n",
    "print(model(inputs))"
   ]
  },
  {
   "cell_type": "code",
   "execution_count": 102,
   "id": "980a2f34-6734-4319-8776-31d75fb12574",
   "metadata": {},
   "outputs": [
    {
     "name": "stdout",
     "output_type": "stream",
     "text": [
      "Epoch:0 Loss:1.8850\n",
      "Epoch:100 Loss:1.3412\n",
      "Epoch:200 Loss:0.9683\n",
      "Epoch:300 Loss:0.7147\n",
      "Epoch:400 Loss:0.5452\n",
      "Epoch:500 Loss:0.4335\n",
      "Epoch:600 Loss:0.3592\n",
      "Epoch:700 Loss:0.3076\n",
      "Epoch:800 Loss:0.2699\n",
      "Epoch:900 Loss:0.2408\n",
      "tensor([[-0.2049],\n",
      "        [-0.1036],\n",
      "        [ 0.2817],\n",
      "        [-0.0381],\n",
      "        [-1.1257],\n",
      "        [ 0.2573],\n",
      "        [ 0.8190],\n",
      "        [ 0.2288],\n",
      "        [-0.3503],\n",
      "        [-2.2094]])\n",
      "tensor([[-0.5312],\n",
      "        [-0.3439],\n",
      "        [ 0.1631],\n",
      "        [-0.4970],\n",
      "        [-0.6852],\n",
      "        [ 0.2804],\n",
      "        [ 0.5715],\n",
      "        [ 0.0797],\n",
      "        [-0.7242],\n",
      "        [-1.0389]], grad_fn=<AddmmBackward0>)\n"
     ]
    }
   ],
   "source": [
    "inputs=torch.randn(10,5)\n",
    "targets=torch.randn(10,1)\n",
    "num_epochs=1000\n",
    "model=torch.nn.Linear(5,1)\n",
    "optimizer=torch.optim.AdamW(model.parameters(), lr=0.001)\n",
    "\n",
    "for epoch in range(num_epochs):\n",
    "    outputs=model(inputs)\n",
    "    loss_fn=torch.nn.MSELoss()\n",
    "    loss=loss_fn(outputs,targets)\n",
    "    optimizer.zero_grad()\n",
    "    loss.backward()\n",
    "    optimizer.step()\n",
    "    if epoch%100==0:\n",
    "        print(f\"Epoch:{epoch} Loss:{loss.item():.4f}\")\n",
    "\n",
    "print(targets)\n",
    "print(model(inputs))"
   ]
  },
  {
   "cell_type": "code",
   "execution_count": 100,
   "id": "fe99ae63-d156-4dc3-8753-4b35446450c6",
   "metadata": {},
   "outputs": [
    {
     "name": "stdout",
     "output_type": "stream",
     "text": [
      "Epoch:0 Loss:0.9578\n",
      "Epoch:100 Loss:0.7413\n",
      "Epoch:200 Loss:0.6057\n",
      "Epoch:300 Loss:0.5156\n",
      "Epoch:400 Loss:0.4527\n",
      "Epoch:500 Loss:0.4069\n",
      "Epoch:600 Loss:0.3723\n",
      "Epoch:700 Loss:0.3457\n",
      "Epoch:800 Loss:0.3246\n",
      "Epoch:900 Loss:0.3077\n",
      "tensor([[-1.1333],\n",
      "        [-0.7222],\n",
      "        [-1.3959],\n",
      "        [ 0.6698],\n",
      "        [-0.0128],\n",
      "        [-1.8168],\n",
      "        [ 0.0428],\n",
      "        [ 0.8092],\n",
      "        [ 0.5628],\n",
      "        [-0.1549]])\n",
      "tensor([[-1.1140],\n",
      "        [-1.0560],\n",
      "        [-0.6384],\n",
      "        [ 0.4506],\n",
      "        [ 0.3213],\n",
      "        [-0.8565],\n",
      "        [-0.0672],\n",
      "        [-0.1972],\n",
      "        [ 0.1928],\n",
      "        [-0.2546]], grad_fn=<AddmmBackward0>)\n"
     ]
    }
   ],
   "source": [
    "inputs=torch.randn(10,5)\n",
    "targets=torch.randn(10,1)\n",
    "num_epochs=1000\n",
    "model=torch.nn.Linear(5,1)\n",
    "optimizer=torch.optim.SGD(model.parameters(), lr=0.001)\n",
    "\n",
    "for epoch in range(num_epochs):\n",
    "    outputs=model(inputs)\n",
    "    loss_fn=torch.nn.MSELoss()\n",
    "    loss=loss_fn(outputs,targets)\n",
    "    optimizer.zero_grad()\n",
    "    loss.backward()\n",
    "    optimizer.step()\n",
    "    if epoch%100==0:\n",
    "        print(f\"Epoch:{epoch} Loss:{loss.item():.4f}\")\n",
    "\n",
    "print(targets)\n",
    "print(model(inputs))"
   ]
  },
  {
   "cell_type": "code",
   "execution_count": null,
   "id": "9aafff7c-b6a7-48b1-b3a9-baf679d7b320",
   "metadata": {},
   "outputs": [],
   "source": []
  }
 ],
 "metadata": {
  "kernelspec": {
   "display_name": "Python 3 (ipykernel)",
   "language": "python",
   "name": "python3"
  },
  "language_info": {
   "codemirror_mode": {
    "name": "ipython",
    "version": 3
   },
   "file_extension": ".py",
   "mimetype": "text/x-python",
   "name": "python",
   "nbconvert_exporter": "python",
   "pygments_lexer": "ipython3",
   "version": "3.8.10"
  }
 },
 "nbformat": 4,
 "nbformat_minor": 5
}
