{
 "cells": [
  {
   "cell_type": "code",
   "execution_count": 7,
   "id": "0a14222c-1f9d-47ac-b5b9-0fe02160c0b9",
   "metadata": {},
   "outputs": [
    {
     "name": "stdout",
     "output_type": "stream",
     "text": [
      "[[ 65.36591951  90.62996205]\n",
      " [ 77.33129115  93.55508628]\n",
      " [ 84.11787111 107.66119667]\n",
      " [ 87.59553092  97.76860741]\n",
      " [ 61.31599802 106.09730187]\n",
      " [ 63.17708937  98.62831402]\n",
      " [ 83.44689103  94.0026566 ]\n",
      " [ 60.42023968  90.90639579]\n",
      " [ 65.06340531 108.38387835]\n",
      " [ 79.75132777  93.16969265]\n",
      " [ 84.92761867 103.32971813]\n",
      " [ 73.94236969  98.7242553 ]\n",
      " [ 65.23041016  90.48856916]\n",
      " [ 99.4152132  100.65629142]\n",
      " [ 94.37485748  96.63977724]\n",
      " [ 72.00313678  91.29112072]\n",
      " [ 63.88783803  99.61083806]\n",
      " [ 96.56830411 105.04520148]\n",
      " [ 61.32133495  91.59008508]\n",
      " [ 68.25704159  99.24081926]]\n",
      "(20, 2)\n"
     ]
    }
   ],
   "source": [
    "import numpy as np\n",
    "X1=np.random.uniform(58,100,(20,))\n",
    "X2=np.random.uniform(90, 109,(20,))\n",
    "X=np.column_stack((X1,X2))\n",
    "print(X)\n",
    "print(X.shape)"
   ]
  },
  {
   "cell_type": "code",
   "execution_count": 9,
   "id": "b73ef387-a057-4c73-a255-8e481372ecbe",
   "metadata": {},
   "outputs": [
    {
     "name": "stdout",
     "output_type": "stream",
     "text": [
      "[0 0 0 0 0 0 0 1 0 1 1 0 1 0 1 1 1 0 1 0]\n",
      "(20,)\n"
     ]
    }
   ],
   "source": [
    "Y=np.random.randint(0,2,(20,))\n",
    "print(Y)\n",
    "print(Y.shape)"
   ]
  },
  {
   "cell_type": "code",
   "execution_count": 11,
   "id": "2d411951-3301-4088-b5ca-c89cdc3d6aef",
   "metadata": {},
   "outputs": [
    {
     "ename": "ModuleNotFoundError",
     "evalue": "No module named 'sklearn'",
     "output_type": "error",
     "traceback": [
      "\u001b[1;31m---------------------------------------------------------------------------\u001b[0m",
      "\u001b[1;31mModuleNotFoundError\u001b[0m                       Traceback (most recent call last)",
      "Cell \u001b[1;32mIn[11], line 1\u001b[0m\n\u001b[1;32m----> 1\u001b[0m \u001b[38;5;28;01mfrom\u001b[39;00m\u001b[38;5;250m \u001b[39m\u001b[38;5;21;01msklearn\u001b[39;00m\u001b[38;5;21;01m.\u001b[39;00m\u001b[38;5;21;01mneighbors\u001b[39;00m\u001b[38;5;250m \u001b[39m\u001b[38;5;28;01mimport\u001b[39;00m KNeighborsClassifier\n\u001b[0;32m      3\u001b[0m knn\u001b[38;5;241m=\u001b[39mKNeighborsClassifier(\u001b[38;5;241m2\u001b[39m)\n\u001b[0;32m      4\u001b[0m knn\u001b[38;5;241m.\u001b[39mfit(X,Y)\n",
      "\u001b[1;31mModuleNotFoundError\u001b[0m: No module named 'sklearn'"
     ]
    }
   ],
   "source": [
    "from sklearn.neighbors import KNeighborsClassifier\n",
    "\n",
    "knn=KNeighborsClassifier(2)\n",
    "knn.fit(X,Y)\n",
    "X_new=np.random.uniform(58,100,(3,))\n",
    "print(X_new)\n",
    "predictions=knn.predict(X_new)\n",
    "print(predictions)"
   ]
  },
  {
   "cell_type": "code",
   "execution_count": null,
   "id": "6fb62098-f4b2-44c0-b63f-4d605f69eb6e",
   "metadata": {},
   "outputs": [],
   "source": []
  }
 ],
 "metadata": {
  "kernelspec": {
   "display_name": "Python 3 (ipykernel)",
   "language": "python",
   "name": "python3"
  },
  "language_info": {
   "codemirror_mode": {
    "name": "ipython",
    "version": 3
   },
   "file_extension": ".py",
   "mimetype": "text/x-python",
   "name": "python",
   "nbconvert_exporter": "python",
   "pygments_lexer": "ipython3",
   "version": "3.8.10"
  }
 },
 "nbformat": 4,
 "nbformat_minor": 5
}
