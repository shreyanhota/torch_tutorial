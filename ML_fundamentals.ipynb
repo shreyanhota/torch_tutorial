{
 "cells": [
  {
   "cell_type": "code",
   "execution_count": 2,
   "id": "0a14222c-1f9d-47ac-b5b9-0fe02160c0b9",
   "metadata": {},
   "outputs": [
    {
     "name": "stdout",
     "output_type": "stream",
     "text": [
      "[[ 98.76323885 104.7761128 ]\n",
      " [ 99.36046313 101.37334864]\n",
      " [ 82.24678779 104.43474916]\n",
      " [ 90.13414196  98.2495863 ]\n",
      " [ 88.47164148 100.18731286]\n",
      " [ 58.61816257 100.85631873]\n",
      " [ 72.51735223  99.85288863]\n",
      " [ 88.8660013  103.8325876 ]\n",
      " [ 74.300474   100.41902281]\n",
      " [ 99.03886733 100.63542164]\n",
      " [ 62.138696   107.68070277]\n",
      " [ 84.49046878 105.31091481]\n",
      " [ 91.81320002 103.8555036 ]\n",
      " [ 91.35985778  91.77911221]\n",
      " [ 69.04194867  95.86594802]\n",
      " [ 85.06657886  91.63647926]\n",
      " [ 66.13347217 105.3509863 ]\n",
      " [ 88.29068454  99.34066639]\n",
      " [ 66.47169915 107.86108571]\n",
      " [ 60.31184142 108.75063233]]\n",
      "(20, 2)\n"
     ]
    }
   ],
   "source": [
    "import numpy as np\n",
    "X1=np.random.uniform(58,100,(20,))\n",
    "X2=np.random.uniform(90, 109,(20,))\n",
    "X=np.column_stack((X1,X2))\n",
    "print(X)\n",
    "print(X.shape)"
   ]
  },
  {
   "cell_type": "code",
   "execution_count": 3,
   "id": "b73ef387-a057-4c73-a255-8e481372ecbe",
   "metadata": {},
   "outputs": [
    {
     "name": "stdout",
     "output_type": "stream",
     "text": [
      "[0 0 1 1 1 1 1 0 0 1 0 0 0 1 1 0 0 1 0 1]\n",
      "(20,)\n"
     ]
    }
   ],
   "source": [
    "Y=np.random.randint(0,2,(20,))\n",
    "print(Y)\n",
    "print(Y.shape)"
   ]
  },
  {
   "cell_type": "code",
   "execution_count": 12,
   "id": "2d411951-3301-4088-b5ca-c89cdc3d6aef",
   "metadata": {},
   "outputs": [
    {
     "name": "stdout",
     "output_type": "stream",
     "text": [
      "[[ 88.29573086 103.15978911]\n",
      " [ 66.43615788 108.82711961]\n",
      " [ 66.500177   106.91388079]]\n",
      "Pred:[0 0 0]\n"
     ]
    }
   ],
   "source": [
    "from sklearn.neighbors import KNeighborsClassifier\n",
    "\n",
    "knn=KNeighborsClassifier(2)\n",
    "knn.fit(X,Y)\n",
    "X1new=np.random.uniform(58,100,(3,))\n",
    "X2new=np.random.uniform(90, 109,(3,))\n",
    "X_new=np.column_stack((X1new,X2new))\n",
    "print(X_new)\n",
    "predictions=knn.predict(X_new)\n",
    "print(f\"Pred:{predictions}\")"
   ]
  },
  {
   "cell_type": "code",
   "execution_count": null,
   "id": "6fb62098-f4b2-44c0-b63f-4d605f69eb6e",
   "metadata": {},
   "outputs": [],
   "source": []
  }
 ],
 "metadata": {
  "kernelspec": {
   "display_name": "Python 3 (ipykernel)",
   "language": "python",
   "name": "python3"
  },
  "language_info": {
   "codemirror_mode": {
    "name": "ipython",
    "version": 3
   },
   "file_extension": ".py",
   "mimetype": "text/x-python",
   "name": "python",
   "nbconvert_exporter": "python",
   "pygments_lexer": "ipython3",
   "version": "3.8.10"
  }
 },
 "nbformat": 4,
 "nbformat_minor": 5
}
