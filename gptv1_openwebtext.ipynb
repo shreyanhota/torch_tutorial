{
 "cells": [
  {
   "cell_type": "code",
   "execution_count": 7,
   "metadata": {},
   "outputs": [
    {
     "name": "stdout",
     "output_type": "stream",
     "text": [
      "cuda\n",
      "207798\n",
      "Hello! Can you see me?D&DTqbriy;fwLq-‘Q.nOGHR—ELwgpoveHM1M‘Zn;NG“g:‘ZRuaGrYMR’WLvKv??”!wDcAjz1XiXw“lR‘xWbFG;uDAqe(lmfgwpdK\n"
     ]
    }
   ],
   "source": [
    "import torch\n",
    "\n",
    "device= 'cuda' if torch.cuda.is_available else 'cpu'\n",
    "print(device)\n",
    "\n",
    "chars=\"\"\n",
    "\n",
    "with open(\"wizardofoz.txt\", 'r', encoding='utf-8') as f:\n",
    "    text=f.read()\n",
    "    chars=sorted(list(set(text)))\n",
    "print(len(text)) \n",
    "\n",
    "\n",
    "vocab_size=len(chars)\n",
    "embed_dim=384\n",
    "learning_rate=3e-4\n",
    "max_iters=10000\n",
    "block_size=32\n",
    "batch_size=128\n",
    "eval_iters=2500\n",
    "n_layer=4\n",
    "n_head=4\n",
    "dropout=0.2\n",
    "\n",
    "string_to_int = {ch:i for i,ch in enumerate(chars)}\n",
    "int_to_string = {i:ch for i,ch in enumerate(chars)}\n",
    "encode = lambda s: [string_to_int[c] for c in s]\n",
    "decode = lambda l: ''.join([int_to_string[i] for i in l])\n",
    "\n",
    "\n",
    "class Head(torch.nn.Module):\n",
    "    def __init__(self,head_size):\n",
    "        super().__init__()\n",
    "        self.key=torch.nn.Linear(embed_dim,head_size,bias=False)\n",
    "        self.query=torch.nn.Linear(embed_dim,head_size,bias=False)\n",
    "        self.value=torch.nn.Linear(embed_dim,head_size,bias=False)\n",
    "        self.register_buffer('tril',torch.tril(torch.ones(block_size,block_size)))\n",
    "        self.dropout=torch.nn.Dropout(dropout)\n",
    "\n",
    "    def forward(self,x):\n",
    "        B,T,C=x.shape\n",
    "        k=self.key(x)\n",
    "        q=self.query(x)\n",
    "        wei=q@k.transpose(-2,-1)*k.shape[-1]**-0.5\n",
    "        wei=wei.masked_fill(self.tril[:T,:T]==0,float('-inf'))\n",
    "        wei=torch.nn.functional.softmax(wei,dim=-1)\n",
    "        wei=self.dropout(wei)\n",
    "        v=self.value(x)\n",
    "        out=wei@v\n",
    "        return out\n",
    "\n",
    "class MultiHeadAttention(torch.nn.Module):\n",
    "    def __init__(self,num_heads,head_size):\n",
    "        super().__init__()\n",
    "        self.heads=torch.nn.ModuleList([Head(head_size) for _ in range(num_heads)])\n",
    "        self.proj=torch.nn.Linear(head_size*num_heads,embed_dim)\n",
    "        self.dropout=torch.nn.Dropout(dropout)\n",
    "\n",
    "    def forward(self,x):\n",
    "        out=torch.cat([h(x) for h in self.heads],dim=-1)\n",
    "        out=self.dropout(self.proj(out))\n",
    "        return out\n",
    "        \n",
    "class FeedForward(torch.nn.Module):\n",
    "    def __init__(self,embed_dim):\n",
    "        super().__init__()\n",
    "        self.net=torch.nn.Sequential(\n",
    "            torch.nn.Linear(embed_dim,4*embed_dim),\n",
    "            torch.nn.ReLU(),\n",
    "            torch.nn.Linear(4*embed_dim,embed_dim),\n",
    "            torch.nn.Dropout(dropout),\n",
    "        )\n",
    "\n",
    "    def forward(self,x):\n",
    "        return self.net(x)\n",
    "\n",
    "class Block(torch.nn.Module):\n",
    "    def __init__(self,embed_dim,n_head):\n",
    "        super().__init__()\n",
    "        head_size=embed_dim//n_head\n",
    "        self.sa=MultiHeadAttention(n_head,head_size)\n",
    "        self.ffwd=FeedForward(embed_dim)\n",
    "        self.ln1=torch.nn.LayerNorm(embed_dim)\n",
    "        self.ln2=torch.nn.LayerNorm(embed_dim)\n",
    "\n",
    "    def forward(self,x):\n",
    "        y=self.sa(x)\n",
    "        x=self.ln1(x+y)\n",
    "        y=self.ffwd(x)\n",
    "        x=self.ln2(x+y)\n",
    "        return x\n",
    "\n",
    "class GPTLM(torch.nn.Module):\n",
    "    def __init__(self,vocab_size,embed_dim):\n",
    "        super().__init__()\n",
    "        self.token_embedding_table=torch.nn.Embedding(vocab_size,embed_dim)\n",
    "        self.position_embedding_table=torch.nn.Embedding(block_size,embed_dim)\n",
    "        self.blocks=torch.nn.Sequential(*[Block(embed_dim,n_head=n_head) for _ in range(n_layer)])\n",
    "\n",
    "        self.ln_f=torch.nn.LayerNorm(embed_dim)\n",
    "        self.lm_head=torch.nn.Linear(embed_dim,vocab_size)\n",
    "        self.apply(self._init_weights)\n",
    "\n",
    "    def _init_weights(self,module):\n",
    "        if isinstance(module,torch.nn.Linear):\n",
    "            torch.nn.init.normal_(module.weight,mean=0.0,std=0.02)\n",
    "            if module.bias is not None:\n",
    "                torch.nn.init.zeros_(module.bias)\n",
    "        elif isinstance(module,torch.nn.Embedding):\n",
    "            torch.nn.init.normal_(module.weight,mean=0.0,std=0.02)\n",
    "\n",
    "    def forward(self,index,targets=None):\n",
    "        # logits=self.token_embedding_table(index)\n",
    "        B,T=index.shape\n",
    "        tok_emb=self.token_embedding_table(index)\n",
    "        pos_emb=self.position_embedding_table(torch.arange(T, device=device))\n",
    "        x=tok_emb+pos_emb\n",
    "        x=self.blocks(x)\n",
    "        x=self.ln_f(x)\n",
    "        logits=self.lm_head(x)\n",
    "        \n",
    "        if targets is None:\n",
    "            loss=None\n",
    "        else:\n",
    "            B,T,C=logits.shape\n",
    "            logits=logits.view(B*T,C)\n",
    "            targets=targets.view(B*T)\n",
    "            loss=torch.nn.functional.cross_entropy(logits,targets)\n",
    "        return logits,loss\n",
    "\n",
    "    def generate(self,index,max_new_tokens):\n",
    "        for _ in range(max_new_tokens):\n",
    "            index_cond = index[:, -block_size:]\n",
    "            logits,loss=self.forward(index_cond)\n",
    "            logits=logits[:,-1,:]\n",
    "            probs=torch.nn.functional.softmax(logits,dim=-1)\n",
    "            index_next=torch.multinomial(probs,num_samples=1)\n",
    "            index=torch.cat((index,index_next),dim=1)\n",
    "        return index\n",
    "\n",
    "model=GPTLM(vocab_size,embed_dim)\n",
    "m=model.to(device)\n",
    "\n",
    "# context=torch.tensor(encode(\"o\"),dtype=torch.long, device=device).reshape(1,1)\n",
    "# print(context)\n",
    "# context2=torch.zeros((1,1),dtype=torch.long, device=device)\n",
    "# print(context2)\n",
    "# generated_chars=decode(m.generate(context,max_new_tokens=500)[0].tolist())\n",
    "# print(generated_chars)\n",
    "\n",
    "prompt = 'Hello! Can you see me?'\n",
    "context = torch.tensor(encode(prompt), dtype=torch.long, device=device)\n",
    "generated_chars = decode(m.generate(context.unsqueeze(0), max_new_tokens=100)[0].tolist())\n",
    "print(generated_chars)"
   ]
  },
  {
   "cell_type": "code",
   "execution_count": 25,
   "metadata": {},
   "outputs": [
    {
     "name": "stdout",
     "output_type": "stream",
     "text": [
      "tensor([[ 1.9250,  0.9050, -1.1734,  1.0528, -0.1001, -0.0505]],\n",
      "       grad_fn=<SliceBackward0>)\n",
      "tensor([[[ 1.9250,  0.9050, -1.1734,  1.0528, -0.1001, -0.0505]]],\n",
      "       grad_fn=<EmbeddingBackward0>)\n",
      "1 1 6\n"
     ]
    },
    {
     "data": {
      "text/plain": [
       "tensor([[ 1.9250,  0.9050, -1.1734,  1.0528, -0.1001, -0.0505]],\n",
       "       grad_fn=<ViewBackward0>)"
      ]
     },
     "execution_count": 25,
     "metadata": {},
     "output_type": "execute_result"
    }
   ],
   "source": [
    "x=torch.nn.Embedding(87,6)\n",
    "z=x(torch.tensor([[4]]))\n",
    "print(z[:,-1,:])\n",
    "print(x(torch.tensor([[4]])))\n",
    "b,t,c=x(torch.tensor([[4]])).shape\n",
    "print(b,t,c)\n",
    "y=x(torch.tensor([[4]])).view(1,6)\n",
    "y"
   ]
  },
  {
   "cell_type": "code",
   "execution_count": 8,
   "metadata": {},
   "outputs": [
    {
     "name": "stdout",
     "output_type": "stream",
     "text": [
      "step:0, train loss, 4.337291240692139, val loss, 4.339147090911865\n",
      "step:2500, train loss, 1.0280554294586182, val loss, 1.3671529293060303\n",
      "step:5000, train loss, 0.763266384601593, val loss, 1.5050116777420044\n",
      "step:7500, train loss, 0.5783995389938354, val loss, 1.7056875228881836\n",
      "0.6622985601425171\n"
     ]
    }
   ],
   "source": [
    "data=torch.tensor(encode(text),dtype=torch.long)\n",
    "\n",
    "n=int(0.8*len(data))\n",
    "train_data=data[:n]\n",
    "val_data=data[n:]\n",
    "def get_batch(split):\n",
    "    data=train_data if split=='train' else val_data\n",
    "    ix=torch.randint(len(data)-block_size,(batch_size,))\n",
    "    # print(ix)\n",
    "    x=torch.stack([data[i:i+block_size] for i in ix])\n",
    "    y=torch.stack([data[i+1:i+block_size+1] for i in ix])\n",
    "    x,y=x.to(device),y.to(device)\n",
    "    return x,y\n",
    "    \n",
    "optimizer=torch.optim.AdamW(model.parameters(),lr=learning_rate)\n",
    "\n",
    "@torch.no_grad()\n",
    "def estimate_loss():\n",
    "    out={}\n",
    "    model.eval()\n",
    "    for split in ['train','val']:\n",
    "        losses=torch.zeros(eval_iters)\n",
    "        for k in range(eval_iters):\n",
    "            X,Y=get_batch(split)\n",
    "            logits,loss=model(X,Y)\n",
    "            losses[k]=loss.item()\n",
    "        out[split]=losses.mean()\n",
    "    model.train()\n",
    "    return out\n",
    "\n",
    "for iter in range(max_iters):\n",
    "    if iter % eval_iters == 0:\n",
    "        losses=estimate_loss()\n",
    "        print(f\"step:{iter}, train loss, {losses['train']}, val loss, {losses['val']}\")\n",
    "    xb,yb=get_batch('train')\n",
    "    logits,loss=model.forward(xb,yb)\n",
    "    optimizer.zero_grad(set_to_none=True)\n",
    "    loss.backward()\n",
    "    optimizer.step()\n",
    "print(loss.item())"
   ]
  },
  {
   "cell_type": "code",
   "execution_count": 10,
   "metadata": {},
   "outputs": [
    {
     "name": "stdout",
     "output_type": "stream",
     "text": [
      "Hello! Can you see me?” she asked the man, who was also!” reto the Scarecrow and he had greenish skin what they talked so \n"
     ]
    }
   ],
   "source": [
    "prompt = 'Hello! Can you see me?'\n",
    "context = torch.tensor(encode(prompt), dtype=torch.long, device=device)\n",
    "generated_chars = decode(m.generate(context.unsqueeze(0), max_new_tokens=100)[0].tolist())\n",
    "print(generated_chars)"
   ]
  },
  {
   "cell_type": "code",
   "execution_count": null,
   "metadata": {},
   "outputs": [
    {
     "name": "stdin",
     "output_type": "stream",
     "text": [
      "Prompt:\n",
      " Hi\n"
     ]
    },
    {
     "name": "stdout",
     "output_type": "stream",
     "text": [
      "Completion:\n",
      "His\n",
      "few so beautiful legs, where theyes\n",
      "were  severely:\n",
      "\n",
      "“Can you are that Dorothy could not help us, Dorothy with all those other animals is the end my\n"
     ]
    }
   ],
   "source": [
    "while True:\n",
    "    prompt = input(\"Prompt:\\n\")\n",
    "    context = torch.tensor(encode(prompt), dtype=torch.long, device=device)\n",
    "    generated_chars = decode(m.generate(context.unsqueeze(0), max_new_tokens=150)[0].tolist())\n",
    "    print(f'Completion:\\n{generated_chars}')"
   ]
  },
  {
   "cell_type": "code",
   "execution_count": 15,
   "metadata": {},
   "outputs": [
    {
     "name": "stdout",
     "output_type": "stream",
     "text": [
      "{'O': 454, 'n': 53695, '\\n': 16178, 't': 66385, 'h': 36315, 'e': 99167, ' ': 141128, 'r': 46845, 'i': 53816, 'g': 13352, 'o': 53788, 'f': 20788, 'S': 641, 'p': 13771, 'c': 25950, 's': 50243, 'B': 480, 'Y': 59, 'M': 440, 'E': 427, 'A': 936, 'N': 474, 'F': 304, 'T': 959, 'U': 114, 'R': 239, 'L': 238, 'C': 445, 'I': 1815, ',': 12587, 'H': 418, 'P': 262, 'V': 78, 'D': 216, 'G': 287, '.': 5451, 'y': 12662, 'a': 58480, 'l': 31034, 'w': 11633, 'æ': 179, ';': 1702, 'u': 18778, '‘': 8, 'J': 41, '’': 141, 'd': 27350, 'W': 510, ':': 405, '1': 545, '8': 237, '5': 227, '9': 227, '“': 71, 'm': 18241, '—': 339, 'v': 9042, 'b': 12303, 'x': 1829, '”': 71, '_': 328, 'k': 2655, '-': 999, 'K': 35, '2': 388, '3': 490, 'X': 11, '4': 355, '6': 205, '7': 200, '0': 235, 'q': 679, 'j': 376, '?': 107, '!': 46, '(': 172, ')': 172, 'ü': 3, 'z': 273, 'ä': 33, 'ö': 15, 'Z': 32, 'ë': 1, '°': 10, '/': 7, 'Q': 2, '>': 1}\n"
     ]
    },
    {
     "data": {
      "text/plain": [
       "dict_items"
      ]
     },
     "execution_count": 15,
     "metadata": {},
     "output_type": "execute_result"
    }
   ],
   "source": [
    "# Input\n",
    "# text = \"your_text_here\"\n",
    "# chars = list(set(text))  # List of unique characters in text\n",
    "\n",
    "# Count frequencies manually\n",
    "frequency_dict = {}\n",
    "for char in text:\n",
    "    if char in frequency_dict:\n",
    "        frequency_dict[char] += 1\n",
    "    else:\n",
    "        frequency_dict[char] = 1\n",
    "\n",
    "# Sort the dictionary by frequency (values)\n",
    "sorted_items = sorted(frequency_dict.items(), key=lambda item: item[1])\n",
    "\n",
    "# Filter to include only the characters in `chars`\n",
    "result = {char: freq for char, freq in sorted_items if char in chars}\n",
    "\n",
    "print(frequency_dict)\n",
    "type(frequency_dict.items())"
   ]
  }
 ],
 "metadata": {
  "kernelspec": {
   "display_name": "Python 3 (ipykernel)",
   "language": "python",
   "name": "python3"
  },
  "language_info": {
   "codemirror_mode": {
    "name": "ipython",
    "version": 3
   },
   "file_extension": ".py",
   "mimetype": "text/x-python",
   "name": "python",
   "nbconvert_exporter": "python",
   "pygments_lexer": "ipython3",
   "version": "3.8.10"
  }
 },
 "nbformat": 4,
 "nbformat_minor": 4
}
